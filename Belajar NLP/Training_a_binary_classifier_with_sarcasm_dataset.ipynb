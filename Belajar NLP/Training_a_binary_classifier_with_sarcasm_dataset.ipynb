{
  "nbformat": 4,
  "nbformat_minor": 0,
  "metadata": {
    "colab": {
      "name": "Training a binary classifier with sarcasm dataset.ipynb",
      "provenance": [],
      "collapsed_sections": []
    },
    "kernelspec": {
      "name": "python3",
      "display_name": "Python 3"
    },
    "language_info": {
      "name": "python"
    }
  },
  "cells": [
    {
      "cell_type": "markdown",
      "source": [
        "# Download Dataset"
      ],
      "metadata": {
        "id": "EtiO75oTUczd"
      }
    },
    {
      "cell_type": "code",
      "execution_count": null,
      "metadata": {
        "colab": {
          "base_uri": "https://localhost:8080/"
        },
        "id": "ohdhlvyUUNG-",
        "outputId": "d8dc4e37-eb77-4008-8b26-ae0ea03b103a"
      },
      "outputs": [
        {
          "output_type": "stream",
          "name": "stdout",
          "text": [
            "--2022-04-06 00:42:13--  https://storage.googleapis.com/tensorflow-1-public/course3/sarcasm.json\n",
            "Resolving storage.googleapis.com (storage.googleapis.com)... 108.177.125.128, 142.250.157.128, 142.251.8.128, ...\n",
            "Connecting to storage.googleapis.com (storage.googleapis.com)|108.177.125.128|:443... connected.\n",
            "HTTP request sent, awaiting response... 200 OK\n",
            "Length: 5643545 (5.4M) [application/json]\n",
            "Saving to: ‘sarcasm.json’\n",
            "\n",
            "sarcasm.json        100%[===================>]   5.38M  --.-KB/s    in 0.04s   \n",
            "\n",
            "2022-04-06 00:42:13 (139 MB/s) - ‘sarcasm.json’ saved [5643545/5643545]\n",
            "\n"
          ]
        }
      ],
      "source": [
        "# Download the dataset\n",
        "!wget https://storage.googleapis.com/tensorflow-1-public/course3/sarcasm.json"
      ]
    },
    {
      "cell_type": "code",
      "source": [
        "import json\n",
        "\n",
        "# load the JSON file\n",
        "with open('./sarcasm.json', 'r') as f:\n",
        "  datastore = json.load(f)\n",
        "\n",
        "# inisiasi list\n",
        "sentences = []\n",
        "labels = []\n",
        "\n",
        "# collect sentences and labels into the list\n",
        "for item in datastore:\n",
        "  sentences.append(item['headline'])\n",
        "  labels.append(item['is_sarcastic'])"
      ],
      "metadata": {
        "id": "QcRqKyqRUjmK"
      },
      "execution_count": null,
      "outputs": []
    },
    {
      "cell_type": "markdown",
      "source": [
        "# Hyperparameter"
      ],
      "metadata": {
        "id": "3AReh1YXVGEK"
      }
    },
    {
      "cell_type": "code",
      "source": [
        "# number of example\n",
        "training_size = 20000\n",
        "\n",
        "# vocabulary size\n",
        "vocab_size = 10000\n",
        "\n",
        "# mximum length of padded\n",
        "max_length = 32\n",
        "\n",
        "# output dimensions\n",
        "embedding_dim = 16"
      ],
      "metadata": {
        "id": "I2AJkwkRVBcN"
      },
      "execution_count": null,
      "outputs": []
    },
    {
      "cell_type": "markdown",
      "source": [
        "# Split Dataset"
      ],
      "metadata": {
        "id": "9RoA_V0iVZht"
      }
    },
    {
      "cell_type": "code",
      "source": [
        "# split sentences\n",
        "training_sentences = sentences[0:training_size]\n",
        "testing_sentences = sentences[training_size:]\n",
        "\n",
        "# split the labels\n",
        "training_labels = labels[0:training_size]\n",
        "testing_labels = labels[training_size:]"
      ],
      "metadata": {
        "id": "mP2YjK48VYjE"
      },
      "execution_count": null,
      "outputs": []
    },
    {
      "cell_type": "markdown",
      "source": [
        "# Preprocessing the train and test dataset"
      ],
      "metadata": {
        "id": "fhuy8PAaV18y"
      }
    },
    {
      "cell_type": "code",
      "source": [
        "import numpy as np\n",
        "from tensorflow.keras.preprocessing.text import Tokenizer\n",
        "from tensorflow.keras.preprocessing.sequence import pad_sequences\n",
        "\n",
        "# parameter for padding and OOV tokens\n",
        "trunc_type = 'post'\n",
        "padding_type = 'post'\n",
        "oov_tok = \"<OOV>\"\n",
        "\n",
        "# inisiasi class tokenizer\n",
        "tokenizer = Tokenizer(num_words=vocab_size, oov_token=oov_tok)\n",
        "\n",
        "# generate the word index dictionary\n",
        "tokenizer.fit_on_texts(training_sentences)\n",
        "word_index = tokenizer.word_index\n",
        "\n",
        "# generate and pad the training sequences\n",
        "training_sequences = tokenizer.texts_to_sequences(training_sentences)\n",
        "training_padded = pad_sequences(training_sequences, maxlen=max_length, padding=padding_type, truncating=trunc_type)\n",
        "\n",
        "# generate and pad the testing sequences\n",
        "testing_sequences = tokenizer.texts_to_sequences(testing_sentences)\n",
        "testing_padded = pad_sequences(testing_sequences, maxlen=max_length, padding=padding_type, truncating=trunc_type)\n",
        "\n",
        "# convert the labels lists into numpy arrays\n",
        "training_labels = np.array(training_labels)\n",
        "testing_labels = np.array(testing_labels)"
      ],
      "metadata": {
        "id": "ZqwcTyG8V0bB"
      },
      "execution_count": null,
      "outputs": []
    },
    {
      "cell_type": "markdown",
      "source": [
        "# Build models"
      ],
      "metadata": {
        "id": "4CP4Wny2YFdu"
      }
    },
    {
      "cell_type": "code",
      "source": [
        "import tensorflow as tf"
      ],
      "metadata": {
        "id": "M0gezKKwX23k"
      },
      "execution_count": null,
      "outputs": []
    },
    {
      "cell_type": "code",
      "source": [
        "# inisiasi GlobalAveragePooling1D (GAP1D) layer\n",
        "gap1d_layer = tf.keras.layers.GlobalAveragePooling1D()\n",
        "\n",
        "# define sample array\n",
        "sample_array = np.array([[[10, 2], [1, 3], [1, 1]]])\n",
        "\n",
        "# print shape and contents of sample array\n",
        "print(f\"shape of sample array = {sample_array.shape}\")\n",
        "print(f\"sample array : {sample_array}\")\n",
        "\n",
        "# pass the sample array to GAP1D layer\n",
        "output = gap1d_layer(sample_array)\n",
        "\n",
        "# print shape and contents of GAP1D output array\n",
        "print(f\"output shape of GAP1D layer : {output.shape}\")\n",
        "print(f\"output array of GAP1D layer : {output.numpy()}\") "
      ],
      "metadata": {
        "colab": {
          "base_uri": "https://localhost:8080/"
        },
        "id": "fdNNweM-YJe9",
        "outputId": "97493cfa-bee6-450f-8f88-268503443b9c"
      },
      "execution_count": null,
      "outputs": [
        {
          "output_type": "stream",
          "name": "stdout",
          "text": [
            "shape of sample array = (1, 3, 2)\n",
            "sample array : [[[10  2]\n",
            "  [ 1  3]\n",
            "  [ 1  1]]]\n",
            "output shape of GAP1D layer : (1, 2)\n",
            "output array of GAP1D layer : [[4 2]]\n"
          ]
        }
      ]
    },
    {
      "cell_type": "code",
      "source": [
        "# build model\n",
        "model = tf.keras.Sequential([\n",
        "      tf.keras.layers.Embedding(vocab_size, embedding_dim, input_length=max_length),\n",
        "      tf.keras.layers.GlobalAveragePooling1D(),\n",
        "      tf.keras.layers.Dense(24, activation='relu'),\n",
        "      tf.keras.layers.Dense(1, activation='sigmoid')\n",
        "])\n",
        "\n",
        "model.summary()"
      ],
      "metadata": {
        "colab": {
          "base_uri": "https://localhost:8080/"
        },
        "id": "0yL5pHQ4ZInS",
        "outputId": "46ce7206-2d82-42c6-a008-19d2b0088b99"
      },
      "execution_count": null,
      "outputs": [
        {
          "output_type": "stream",
          "name": "stdout",
          "text": [
            "Model: \"sequential\"\n",
            "_________________________________________________________________\n",
            " Layer (type)                Output Shape              Param #   \n",
            "=================================================================\n",
            " embedding (Embedding)       (None, 32, 16)            160000    \n",
            "                                                                 \n",
            " global_average_pooling1d_2   (None, 16)               0         \n",
            " (GlobalAveragePooling1D)                                        \n",
            "                                                                 \n",
            " dense (Dense)               (None, 24)                408       \n",
            "                                                                 \n",
            " dense_1 (Dense)             (None, 1)                 25        \n",
            "                                                                 \n",
            "=================================================================\n",
            "Total params: 160,433\n",
            "Trainable params: 160,433\n",
            "Non-trainable params: 0\n",
            "_________________________________________________________________\n"
          ]
        }
      ]
    },
    {
      "cell_type": "code",
      "source": [
        "# compile\n",
        "model.compile(loss='binary_crossentropy', optimizer='adam', metrics=['accuracy'])"
      ],
      "metadata": {
        "id": "rRy2GMTzaaXP"
      },
      "execution_count": null,
      "outputs": []
    },
    {
      "cell_type": "markdown",
      "source": [
        "# Train the Model"
      ],
      "metadata": {
        "id": "yLFrXVzrankm"
      }
    },
    {
      "cell_type": "code",
      "source": [
        "num_epochs = 30\n",
        "\n",
        "history = model.fit(training_padded, training_labels, epochs=num_epochs, validation_data=(testing_padded, testing_labels), verbose=2)"
      ],
      "metadata": {
        "colab": {
          "base_uri": "https://localhost:8080/"
        },
        "id": "laBPpYJ3amXQ",
        "outputId": "71f768e2-4073-416a-efee-27813344880f"
      },
      "execution_count": null,
      "outputs": [
        {
          "output_type": "stream",
          "name": "stdout",
          "text": [
            "Epoch 1/30\n",
            "625/625 - 3s - loss: 0.5619 - accuracy: 0.6996 - val_loss: 0.4049 - val_accuracy: 0.8223 - 3s/epoch - 5ms/step\n",
            "Epoch 2/30\n",
            "625/625 - 2s - loss: 0.3072 - accuracy: 0.8752 - val_loss: 0.3400 - val_accuracy: 0.8568 - 2s/epoch - 4ms/step\n",
            "Epoch 3/30\n",
            "625/625 - 2s - loss: 0.2302 - accuracy: 0.9085 - val_loss: 0.3453 - val_accuracy: 0.8505 - 2s/epoch - 4ms/step\n",
            "Epoch 4/30\n",
            "625/625 - 2s - loss: 0.1861 - accuracy: 0.9299 - val_loss: 0.3610 - val_accuracy: 0.8536 - 2s/epoch - 4ms/step\n",
            "Epoch 5/30\n",
            "625/625 - 2s - loss: 0.1534 - accuracy: 0.9440 - val_loss: 0.3976 - val_accuracy: 0.8450 - 2s/epoch - 4ms/step\n",
            "Epoch 6/30\n",
            "625/625 - 3s - loss: 0.1289 - accuracy: 0.9544 - val_loss: 0.4281 - val_accuracy: 0.8430 - 3s/epoch - 4ms/step\n",
            "Epoch 7/30\n",
            "625/625 - 4s - loss: 0.1098 - accuracy: 0.9625 - val_loss: 0.4702 - val_accuracy: 0.8393 - 4s/epoch - 6ms/step\n",
            "Epoch 8/30\n",
            "625/625 - 3s - loss: 0.0942 - accuracy: 0.9697 - val_loss: 0.5062 - val_accuracy: 0.8387 - 3s/epoch - 5ms/step\n",
            "Epoch 9/30\n",
            "625/625 - 3s - loss: 0.0819 - accuracy: 0.9744 - val_loss: 0.5586 - val_accuracy: 0.8346 - 3s/epoch - 4ms/step\n",
            "Epoch 10/30\n",
            "625/625 - 3s - loss: 0.0713 - accuracy: 0.9771 - val_loss: 0.6105 - val_accuracy: 0.8271 - 3s/epoch - 4ms/step\n",
            "Epoch 11/30\n",
            "625/625 - 3s - loss: 0.0616 - accuracy: 0.9815 - val_loss: 0.6584 - val_accuracy: 0.8292 - 3s/epoch - 4ms/step\n",
            "Epoch 12/30\n",
            "625/625 - 3s - loss: 0.0529 - accuracy: 0.9851 - val_loss: 0.7093 - val_accuracy: 0.8269 - 3s/epoch - 4ms/step\n",
            "Epoch 13/30\n",
            "625/625 - 3s - loss: 0.0472 - accuracy: 0.9861 - val_loss: 0.7639 - val_accuracy: 0.8241 - 3s/epoch - 4ms/step\n",
            "Epoch 14/30\n",
            "625/625 - 3s - loss: 0.0425 - accuracy: 0.9870 - val_loss: 0.8074 - val_accuracy: 0.8210 - 3s/epoch - 4ms/step\n",
            "Epoch 15/30\n",
            "625/625 - 3s - loss: 0.0364 - accuracy: 0.9898 - val_loss: 0.8834 - val_accuracy: 0.8196 - 3s/epoch - 4ms/step\n",
            "Epoch 16/30\n",
            "625/625 - 3s - loss: 0.0319 - accuracy: 0.9913 - val_loss: 0.9242 - val_accuracy: 0.8162 - 3s/epoch - 5ms/step\n",
            "Epoch 17/30\n",
            "625/625 - 4s - loss: 0.0293 - accuracy: 0.9918 - val_loss: 0.9817 - val_accuracy: 0.8134 - 4s/epoch - 6ms/step\n",
            "Epoch 18/30\n",
            "625/625 - 3s - loss: 0.0269 - accuracy: 0.9929 - val_loss: 1.0719 - val_accuracy: 0.8137 - 3s/epoch - 5ms/step\n",
            "Epoch 19/30\n",
            "625/625 - 3s - loss: 0.0237 - accuracy: 0.9938 - val_loss: 1.1132 - val_accuracy: 0.8114 - 3s/epoch - 5ms/step\n",
            "Epoch 20/30\n",
            "625/625 - 3s - loss: 0.0205 - accuracy: 0.9941 - val_loss: 1.1499 - val_accuracy: 0.8050 - 3s/epoch - 4ms/step\n",
            "Epoch 21/30\n",
            "625/625 - 3s - loss: 0.0186 - accuracy: 0.9952 - val_loss: 1.2292 - val_accuracy: 0.8086 - 3s/epoch - 4ms/step\n",
            "Epoch 22/30\n",
            "625/625 - 3s - loss: 0.0161 - accuracy: 0.9960 - val_loss: 1.3453 - val_accuracy: 0.8047 - 3s/epoch - 4ms/step\n",
            "Epoch 23/30\n",
            "625/625 - 3s - loss: 0.0142 - accuracy: 0.9966 - val_loss: 1.3543 - val_accuracy: 0.8034 - 3s/epoch - 4ms/step\n",
            "Epoch 24/30\n",
            "625/625 - 3s - loss: 0.0143 - accuracy: 0.9962 - val_loss: 1.4520 - val_accuracy: 0.8059 - 3s/epoch - 4ms/step\n",
            "Epoch 25/30\n",
            "625/625 - 3s - loss: 0.0142 - accuracy: 0.9959 - val_loss: 1.4723 - val_accuracy: 0.8024 - 3s/epoch - 4ms/step\n",
            "Epoch 26/30\n",
            "625/625 - 2s - loss: 0.0113 - accuracy: 0.9966 - val_loss: 1.5953 - val_accuracy: 0.8044 - 2s/epoch - 4ms/step\n",
            "Epoch 27/30\n",
            "625/625 - 2s - loss: 0.0113 - accuracy: 0.9972 - val_loss: 1.5920 - val_accuracy: 0.8031 - 2s/epoch - 4ms/step\n",
            "Epoch 28/30\n",
            "625/625 - 3s - loss: 0.0109 - accuracy: 0.9965 - val_loss: 1.6893 - val_accuracy: 0.8032 - 3s/epoch - 4ms/step\n",
            "Epoch 29/30\n",
            "625/625 - 3s - loss: 0.0108 - accuracy: 0.9967 - val_loss: 1.7102 - val_accuracy: 0.8041 - 3s/epoch - 4ms/step\n",
            "Epoch 30/30\n",
            "625/625 - 2s - loss: 0.0094 - accuracy: 0.9970 - val_loss: 1.7229 - val_accuracy: 0.8009 - 2s/epoch - 4ms/step\n"
          ]
        }
      ]
    },
    {
      "cell_type": "markdown",
      "source": [
        "# Visualize the Results"
      ],
      "metadata": {
        "id": "1s5hCat3a-zM"
      }
    },
    {
      "cell_type": "code",
      "source": [
        "import matplotlib.pyplot as plt\n",
        "\n",
        "# Plot utility\n",
        "def plot_graphs(history, string):\n",
        "  plt.plot(history.history[string])\n",
        "  plt.plot(history.history['val_'+string])\n",
        "  plt.xlabel(\"Epochs\")\n",
        "  plt.ylabel(string)\n",
        "  plt.legend([string, 'val_'+string])\n",
        "  plt.show()\n",
        "  \n",
        "# Plot the accuracy and loss\n",
        "plot_graphs(history, \"accuracy\")\n",
        "plot_graphs(history, \"loss\")"
      ],
      "metadata": {
        "colab": {
          "base_uri": "https://localhost:8080/",
          "height": 541
        },
        "id": "OZdEsWDfa6Tk",
        "outputId": "37611c9f-56df-41d7-8c89-0352a4054d8e"
      },
      "execution_count": null,
      "outputs": [
        {
          "output_type": "display_data",
          "data": {
            "text/plain": [
              "<Figure size 432x288 with 1 Axes>"
            ],
            "image/png": "[encoded data removed]"
          },
          "metadata": {
            "needs_background": "light"
          }
        },
        {
          "output_type": "display_data",
          "data": {
            "text/plain": [
              "<Figure size 432x288 with 1 Axes>"
            ],
            "image/png": "[encoded data removed]"
          },
          "metadata": {
            "needs_background": "light"
          }
        }
      ]
    },
    {
      "cell_type": "code",
      "source": [
        ""
      ],
      "metadata": {
        "id": "U_eQPFu8bQrZ"
      },
      "execution_count": null,
      "outputs": []
    }
  ]
}